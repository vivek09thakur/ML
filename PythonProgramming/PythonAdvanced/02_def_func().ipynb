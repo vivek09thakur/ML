{
 "cells": [
  {
   "cell_type": "markdown",
   "metadata": {},
   "source": [
    "## **```def func():```**\n",
    "Functions are just a block of code that performs a particular task when we call them. In python we have two types of functions : **predefined-functions** and **user-defined functions**. \n",
    "\n",
    "> In python we declare functions with `def` keywords."
   ]
  },
  {
   "cell_type": "markdown",
   "metadata": {},
   "source": [
    "**1. `def predefined_func():`** \n",
    "\n",
    "These functions comes along with python itself. We don't have to define them. That's why **predefined-functions** also known as **built-in functions**. i.e : `print()`, `input()` , `sum()` etc. are some example of predefine functions.\n"
   ]
  },
  {
   "cell_type": "markdown",
   "metadata": {},
   "source": [
    "**2. `def userdefined_func():`** \n",
    "\n",
    "We have to define them by ourselves! -_-"
   ]
  },
  {
   "cell_type": "markdown",
   "metadata": {},
   "source": [
    "### **Why we need functions?**\n",
    "\n",
    "> Lets take a seniario where we have to take some numbers and return the average of the numbers."
   ]
  },
  {
   "cell_type": "code",
   "execution_count": 32,
   "metadata": {},
   "outputs": [
    {
     "name": "stdout",
     "output_type": "stream",
     "text": [
      "Average =  6.25\n"
     ]
    }
   ],
   "source": [
    "## A program to get average\n",
    "a = 5\n",
    "b = 4\n",
    "c = 6\n",
    "d = 10\n",
    "\n",
    "avrg = (a + b + c + d)/4\n",
    "print(\"Average = \", avrg)"
   ]
  },
  {
   "cell_type": "markdown",
   "metadata": {},
   "source": [
    "> What if the numbers and count of number change?"
   ]
  },
  {
   "cell_type": "code",
   "execution_count": 33,
   "metadata": {},
   "outputs": [
    {
     "name": "stdout",
     "output_type": "stream",
     "text": [
      "Average =  8.0\n"
     ]
    }
   ],
   "source": [
    "a = 5\n",
    "b = 4\n",
    "c = 6\n",
    "d = 10\n",
    "e = 11\n",
    "f = 12\n",
    "\n",
    "avrg = (a + b + c + d + e + f)/6\n",
    "print(\"Average = \", avrg)"
   ]
  },
  {
   "cell_type": "markdown",
   "metadata": {},
   "source": [
    "> But if it change again ? Then how much time we have to repeat this?\n",
    "**Thats why we create functions**\n",
    "\n",
    "> **Lets solve this problem by making a function**"
   ]
  },
  {
   "cell_type": "code",
   "execution_count": 34,
   "metadata": {},
   "outputs": [],
   "source": [
    "import numpy as np\n",
    "\n",
    "def avrg(nums:list):\n",
    "    arr = np.array(nums)\n",
    "    sum = arr.sum()\n",
    "    count = len(nums)\n",
    "    return sum/count"
   ]
  },
  {
   "cell_type": "code",
   "execution_count": 35,
   "metadata": {},
   "outputs": [
    {
     "data": {
      "text/plain": [
       "6.25"
      ]
     },
     "execution_count": 35,
     "metadata": {},
     "output_type": "execute_result"
    }
   ],
   "source": [
    "avrg([5,4,6,10])"
   ]
  },
  {
   "cell_type": "code",
   "execution_count": 36,
   "metadata": {},
   "outputs": [
    {
     "data": {
      "text/plain": [
       "8.0"
      ]
     },
     "execution_count": 36,
     "metadata": {},
     "output_type": "execute_result"
    }
   ],
   "source": [
    "avrg([5,4,6,10,11,12])"
   ]
  },
  {
   "cell_type": "code",
   "execution_count": 39,
   "metadata": {},
   "outputs": [
    {
     "data": {
      "text/plain": [
       "28.2"
      ]
     },
     "execution_count": 39,
     "metadata": {},
     "output_type": "execute_result"
    }
   ],
   "source": [
    "avrg([12,23,12,11,23,45,55,65,27,9])"
   ]
  },
  {
   "cell_type": "code",
   "execution_count": 40,
   "metadata": {},
   "outputs": [
    {
     "data": {
      "text/plain": [
       "30.923076923076923"
      ]
     },
     "execution_count": 40,
     "metadata": {},
     "output_type": "execute_result"
    }
   ],
   "source": [
    "avrg([12,23,12,11,23,45,55,65,27,9,17,15,88])"
   ]
  },
  {
   "cell_type": "markdown",
   "metadata": {},
   "source": [
    "**See Now we can run this block of code as much time we want**"
   ]
  }
 ],
 "metadata": {
  "kernelspec": {
   "display_name": "Python 3",
   "language": "python",
   "name": "python3"
  },
  "language_info": {
   "codemirror_mode": {
    "name": "ipython",
    "version": 3
   },
   "file_extension": ".py",
   "mimetype": "text/x-python",
   "name": "python",
   "nbconvert_exporter": "python",
   "pygments_lexer": "ipython3",
   "version": "3.10.0"
  }
 },
 "nbformat": 4,
 "nbformat_minor": 2
}
