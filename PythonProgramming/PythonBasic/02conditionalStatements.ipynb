{
 "cells": [
  {
   "cell_type": "markdown",
   "metadata": {},
   "source": [
    "## **`if-elif-else`**"
   ]
  },
  {
   "cell_type": "markdown",
   "metadata": {},
   "source": [
    "1. **`if`**\n",
    "```\n",
    "    if (condition):\n",
    "        statement\n",
    "```"
   ]
  },
  {
   "cell_type": "code",
   "execution_count": 2,
   "metadata": {},
   "outputs": [
    {
     "name": "stdout",
     "output_type": "stream",
     "text": [
      "Hello master\n"
     ]
    }
   ],
   "source": [
    "name = input(\"Enter your name : \")\n",
    "if name == 'vivek':\n",
    "    print(\"Hello master\")"
   ]
  },
  {
   "cell_type": "markdown",
   "metadata": {},
   "source": [
    "2. **`if-else`**\n",
    "```\n",
    "    if (condition):\n",
    "        statement 1\n",
    "    else:\n",
    "        statement 2\n",
    "```"
   ]
  },
  {
   "cell_type": "code",
   "execution_count": 4,
   "metadata": {},
   "outputs": [
    {
     "name": "stdout",
     "output_type": "stream",
     "text": [
      "Hello stranger\n"
     ]
    }
   ],
   "source": [
    "name = input(\"Enter your name : \")\n",
    "if name == 'vivek':\n",
    "    print(\"Hello master\")\n",
    "else:\n",
    "    print(\"Hello stranger\")"
   ]
  },
  {
   "cell_type": "markdown",
   "metadata": {},
   "source": [
    "3. **`if-elif-else`**\n",
    "```\n",
    "    if (condition):\n",
    "        statement 1\n",
    "    elif (condition2):\n",
    "        statement 2\n",
    "    else:\n",
    "        statement 3\n",
    "```"
   ]
  },
  {
   "cell_type": "code",
   "execution_count": 6,
   "metadata": {},
   "outputs": [
    {
     "name": "stdout",
     "output_type": "stream",
     "text": [
      "Hello ma'am\n"
     ]
    }
   ],
   "source": [
    "name = input(\"Enter your name : \")\n",
    "if name == 'vivek':\n",
    "    print(\"Hello master\")\n",
    "elif name == 'samruddhi':\n",
    "    print(\"Hello ma'am\")\n",
    "else:\n",
    "    print(\"Hello stranger\")"
   ]
  }
 ],
 "metadata": {
  "kernelspec": {
   "display_name": "Python 3",
   "language": "python",
   "name": "python3"
  },
  "language_info": {
   "codemirror_mode": {
    "name": "ipython",
    "version": 3
   },
   "file_extension": ".py",
   "mimetype": "text/x-python",
   "name": "python",
   "nbconvert_exporter": "python",
   "pygments_lexer": "ipython3",
   "version": "3.10.0"
  }
 },
 "nbformat": 4,
 "nbformat_minor": 2
}
